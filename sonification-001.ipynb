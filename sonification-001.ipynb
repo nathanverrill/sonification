{
 "cells": [
  {
   "attachments": {},
   "cell_type": "markdown",
   "metadata": {},
   "source": [
    "# sonification\n",
    "\n",
    "Nathan Verrill\n",
    "\n",
    "nathanverrill@gmail.com\n",
    "\n",
    "19 March 2023\n",
    "\n",
    "## overview\n",
    "\n",
    "Explorations in data sonification, converting data to sounds that are fed into AIML models and algorithms created explicitly for audio, such as audio peak finding, keyword spotting, spectograms etc."
   ]
  },
  {
   "cell_type": "code",
   "execution_count": null,
   "metadata": {},
   "outputs": [],
   "source": []
  }
 ],
 "metadata": {
  "language_info": {
   "name": "python"
  },
  "orig_nbformat": 4
 },
 "nbformat": 4,
 "nbformat_minor": 2
}
